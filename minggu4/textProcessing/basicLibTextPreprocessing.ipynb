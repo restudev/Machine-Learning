{
 "cells": [
  {
   "cell_type": "markdown",
   "id": "9349e14b-21c1-4b31-9543-f5470b70c1ff",
   "metadata": {},
   "source": [
    "# Dasar Text-Preprocessing dengan Python#\n",
    "Text data needs to be cleaned and encoded to numerical values before giving them to machine learning models, this process of cleaning and encoding is called as text preprocessing.\n",
    "\n",
    "---\n",
    "\n",
    "## Case Folding: Lowercase ##\n",
    "Merubah format teks menjadi format huruf kecil semua (_lowercase_)."
   ]
  },
  {
   "cell_type": "code",
   "execution_count": 1,
   "id": "6fae618f-7c63-4250-ad61-1db3fa47a13e",
   "metadata": {},
   "outputs": [
    {
     "data": {
      "text/plain": [
       "'dalam kawasan asean, 5 negara terbesar dalam produksi timah adalah indonesia, menyusul dengan malaysia, thailand, myanmar, dan vietnam, masing-masing memberikan kontribusi signifikan terhadap pasar global dengan persentase produksi yang mencapai sekitar 80% dari total produksi dunia.'"
      ]
     },
     "execution_count": 1,
     "metadata": {},
     "output_type": "execute_result"
    }
   ],
   "source": [
    "kalimat = \"Dalam kawasan ASEAN, 5 negara terbesar dalam produksi timah adalah Indonesia, menyusul dengan Malaysia, Thailand, Myanmar, dan Vietnam, masing-masing memberikan kontribusi signifikan terhadap pasar global dengan persentase produksi yang mencapai sekitar 80% dari total produksi dunia.\"\n",
    "lower_case = kalimat.lower()\n",
    "lower_case"
   ]
  },
  {
   "cell_type": "markdown",
   "id": "b74abf28-181b-4236-978b-0c430fed1f2a",
   "metadata": {},
   "source": [
    "## Case Folding: Removing Number ##\n",
    "Menghapus karakter angka."
   ]
  },
  {
   "cell_type": "code",
   "execution_count": 2,
   "id": "7e79447d-1e4f-43e8-b46d-1553d9362abc",
   "metadata": {},
   "outputs": [
    {
     "data": {
      "text/plain": [
       "'Pada tahun , penjualan mobil listrik meningkat sebesar % dibandingkan tahun sebelumnya, menunjukkan tren yang semakin meningkatnya minat masyarakat terhadap mobil ramah lingkungan.'"
      ]
     },
     "execution_count": 2,
     "metadata": {},
     "output_type": "execute_result"
    }
   ],
   "source": [
    "import re\n",
    "kalimat = \"Pada tahun 2023, penjualan mobil listrik meningkat sebesar 150% dibandingkan tahun sebelumnya, menunjukkan tren yang semakin meningkatnya minat masyarakat terhadap mobil ramah lingkungan.\"\n",
    "hasil = re.sub(r\"\\d+\", \"\", kalimat)\n",
    "hasil"
   ]
  },
  {
   "cell_type": "markdown",
   "id": "6163d18c-3c5a-444c-973a-9548a6e0edb2",
   "metadata": {},
   "source": [
    "## Case Folding: Removing Punctuation ##\n",
    "Menghapus karakter tanda baca."
   ]
  },
  {
   "cell_type": "code",
   "execution_count": 3,
   "id": "b7861c56-fe3c-4661-b96e-6ff8f47a1be8",
   "metadata": {},
   "outputs": [
    {
     "name": "stdout",
     "output_type": "stream",
     "text": [
      "Ini adalah contoh kalimat dengan tanda baca\n"
     ]
    }
   ],
   "source": [
    "import string\n",
    "\n",
    "kalimat = \"Ini &adalah [contoh] kalimat? {dengan} tanda. baca?!!\"\n",
    "translator = str.maketrans('', '', string.punctuation)\n",
    "hasil = kalimat.translate(translator)\n",
    "print(hasil)"
   ]
  },
  {
   "cell_type": "markdown",
   "id": "adbdb5f4-acc5-4e50-9d55-4fc396740612",
   "metadata": {},
   "source": [
    "## Case Folding: Removing Whitespace ##\n",
    "Menghapus karakter kosong."
   ]
  },
  {
   "cell_type": "code",
   "execution_count": 4,
   "id": "e25d9dc8-0b3b-4fa0-b277-c89920c63df7",
   "metadata": {},
   "outputs": [
    {
     "data": {
      "text/plain": [
       "'ini kalimat contoh'"
      ]
     },
     "execution_count": 4,
     "metadata": {},
     "output_type": "execute_result"
    }
   ],
   "source": [
    "kalimat = \" \\t    ini kalimat contoh \\t   \\n\"\n",
    "hasil = kalimat.strip()\n",
    "\n",
    "hasil"
   ]
  },
  {
   "cell_type": "markdown",
   "id": "0907f3e3-a02f-4e88-b32d-bbe2fb332ce2",
   "metadata": {},
   "source": [
    "## Separating Sentences with Split () Method ##\n",
    "Fungsi `split()` memisahkan _string_ ke dalam _list_ dengan spasi sebagai pemisah jika tidak ditentukan pemisahnya."
   ]
  },
  {
   "cell_type": "code",
   "execution_count": 5,
   "id": "e950152e-2dcd-4833-a3e9-90dc9e25fb23",
   "metadata": {},
   "outputs": [
    {
     "data": {
      "text/plain": [
       "['Teknologi',\n",
       " 'blockchain',\n",
       " 'semakin',\n",
       " 'banyak',\n",
       " 'digunakan',\n",
       " 'dalam',\n",
       " 'berbagai',\n",
       " 'industri.']"
      ]
     },
     "execution_count": 5,
     "metadata": {},
     "output_type": "execute_result"
    }
   ],
   "source": [
    "kalimat = \"Teknologi blockchain semakin banyak digunakan dalam berbagai industri.\"\n",
    "pisah = kalimat.split()\n",
    "\n",
    "pisah"
   ]
  },
  {
   "cell_type": "markdown",
   "id": "c51b9d65-6050-4044-ac6a-5c559b0610c8",
   "metadata": {},
   "source": [
    "## Tokenizing: Word Tokenizing Using NLTK Module ##\n",
    "Menggunakan _library_ NLTK untuk memisahkan kata dalam sebuah kalimat. \n"
   ]
  },
  {
   "cell_type": "code",
   "execution_count": 6,
   "id": "fe844129-d3ef-40cd-b74e-add2aa511a33",
   "metadata": {},
   "outputs": [
    {
     "name": "stdout",
     "output_type": "stream",
     "text": [
      "Requirement already satisfied: nltk in c:\\users\\restu\\appdata\\local\\programs\\python\\python312\\lib\\site-packages (3.8.1)\n",
      "Requirement already satisfied: click in c:\\users\\restu\\appdata\\local\\programs\\python\\python312\\lib\\site-packages (from nltk) (8.1.7)\n",
      "Requirement already satisfied: joblib in c:\\users\\restu\\appdata\\local\\programs\\python\\python312\\lib\\site-packages (from nltk) (1.4.0)\n",
      "Requirement already satisfied: regex>=2021.8.3 in c:\\users\\restu\\appdata\\local\\programs\\python\\python312\\lib\\site-packages (from nltk) (2023.12.25)\n",
      "Requirement already satisfied: tqdm in c:\\users\\restu\\appdata\\local\\programs\\python\\python312\\lib\\site-packages (from nltk) (4.66.2)\n",
      "Requirement already satisfied: colorama in c:\\users\\restu\\appdata\\local\\programs\\python\\python312\\lib\\site-packages (from click->nltk) (0.4.6)\n"
     ]
    }
   ],
   "source": [
    "!pip install nltk"
   ]
  },
  {
   "cell_type": "code",
   "execution_count": 11,
   "id": "bf17ec52-fcef-4f34-92cf-5576c22c75a8",
   "metadata": {},
   "outputs": [
    {
     "name": "stderr",
     "output_type": "stream",
     "text": [
      "[nltk_data] Downloading package punkt to\n",
      "[nltk_data]     C:\\Users\\RESTU\\AppData\\Roaming\\nltk_data...\n",
      "[nltk_data]   Package punkt is already up-to-date!\n"
     ]
    },
    {
     "data": {
      "text/plain": [
       "True"
      ]
     },
     "execution_count": 11,
     "metadata": {},
     "output_type": "execute_result"
    }
   ],
   "source": [
    "import nltk\n",
    "nltk.download('punkt')"
   ]
  },
  {
   "cell_type": "code",
   "execution_count": 12,
   "id": "f1310f16-dd4c-4a5c-b20b-d1abd9855ae2",
   "metadata": {},
   "outputs": [
    {
     "data": {
      "text/plain": [
       "['Teknologi',\n",
       " 'blockchain',\n",
       " 'semakin',\n",
       " 'banyak',\n",
       " 'digunakan',\n",
       " 'dalam',\n",
       " 'berbagai',\n",
       " 'industri',\n",
       " '.']"
      ]
     },
     "execution_count": 12,
     "metadata": {},
     "output_type": "execute_result"
    }
   ],
   "source": [
    "import nltk\n",
    "from nltk.tokenize import word_tokenize \n",
    "\n",
    "kalimat = \"Teknologi blockchain semakin banyak digunakan dalam berbagai industri.\"\n",
    "\n",
    "tokens = nltk.tokenize.word_tokenize(kalimat)\n",
    "tokens"
   ]
  },
  {
   "cell_type": "markdown",
   "id": "35ea5f9a-391e-469d-8d86-f1598643051b",
   "metadata": {},
   "source": [
    "## Tokenizing with Case Folding ##\n",
    "Menggabungkan teknik _Case Foling_ dengan _Tokenizing_."
   ]
  },
  {
   "cell_type": "code",
   "execution_count": 13,
   "id": "8c639d38-b652-483b-a167-3374957d5a35",
   "metadata": {},
   "outputs": [
    {
     "data": {
      "text/plain": [
       "['teknologi',\n",
       " 'blockchain',\n",
       " 'semakin',\n",
       " 'banyak',\n",
       " 'digunakan',\n",
       " 'dalam',\n",
       " 'berbagai',\n",
       " 'industri']"
      ]
     },
     "execution_count": 13,
     "metadata": {},
     "output_type": "execute_result"
    }
   ],
   "source": [
    "from nltk.tokenize import word_tokenize \n",
    " \n",
    "kalimat = \"Teknologi blockchain semakin banyak digunakan dalam berbagai industri.\"\n",
    "kalimat = kalimat.translate(str.maketrans('','',string.punctuation)).lower()\n",
    "\n",
    "tokens = nltk.tokenize.word_tokenize(kalimat)\n",
    "\n",
    "tokens"
   ]
  },
  {
   "cell_type": "markdown",
   "id": "d502fcb6-c132-427d-ac68-a0ceff48569a",
   "metadata": {},
   "source": [
    "## Frequency Distribution ##\n",
    "Menghitung frekuensi kemunculan setiap tokens(kata) dalam teks."
   ]
  },
  {
   "cell_type": "code",
   "execution_count": 14,
   "id": "3415c5b8-8248-4939-9af6-8cc708b9da37",
   "metadata": {},
   "outputs": [
    {
     "name": "stdout",
     "output_type": "stream",
     "text": [
      "[('dan', 7), ('blockchain', 6), ('untuk', 6), ('dalam', 5), ('industri', 5), ('digunakan', 3), ('keuangan', 3), ('teknologi', 2), ('banyak', 2), ('berbagai', 2), ('kemampuannya', 2), ('keamanan', 2), ('transparansi', 2), ('logistik', 2), ('perawatan', 2), ('kesehatan', 2), ('transaksi', 2), ('mengurangi', 2), ('di', 2), ('dengan', 2), ('semakin', 1), ('karena', 1), ('memberikan', 1), ('ketidakbisaan', 1), ('dimanipulasi', 1), ('dari', 1), ('hingga', 1), ('hiburan', 1), ('perusahaan', 1), ('organisasi', 1), ('telah', 1), ('mulai', 1), ('memanfaatkan', 1), ('mengoptimalkan', 1), ('proses', 1), ('bisnis', 1), ('mereka', 1), ('misalnya', 1), ('memfasilitasi', 1), ('tanpa', 1), ('perantara', 1), ('biaya', 1), ('waktu', 1), ('membantu', 1), ('pelacakan', 1), ('validasi', 1), ('pengiriman', 1), ('risiko', 1), ('kehilangan', 1), ('atau', 1), ('pemalsuan', 1), ('barang', 1), ('sementara', 1), ('dapat', 1), ('mengamankan', 1), ('membagikan', 1), ('catatan', 1), ('medis', 1), ('pasien', 1), ('aman', 1), ('efisien', 1), ('meningkatkan', 1), ('efisiensi', 1), ('diperkirakan', 1), ('akan', 1), ('terus', 1), ('mengalami', 1), ('pertumbuhan', 1), ('signifikan', 1), ('masa', 1), ('depan', 1)]\n"
     ]
    }
   ],
   "source": [
    "from nltk.tokenize import word_tokenize\n",
    "from nltk.probability import FreqDist\n",
    "\n",
    "kalimat = \"Teknologi blockchain semakin banyak digunakan dalam berbagai industri karena kemampuannya untuk memberikan keamanan, transparansi, dan ketidakbisaan untuk dimanipulasi. Dari keuangan, logistik, perawatan kesehatan, hingga hiburan, banyak perusahaan dan organisasi telah mulai memanfaatkan blockchain untuk mengoptimalkan proses bisnis mereka. Misalnya, dalam industri keuangan, blockchain digunakan untuk memfasilitasi transaksi keuangan tanpa perantara, mengurangi biaya dan waktu transaksi. Di industri logistik, blockchain membantu dalam pelacakan dan validasi pengiriman, mengurangi risiko kehilangan atau pemalsuan barang. Sementara dalam industri perawatan kesehatan, blockchain dapat digunakan untuk mengamankan dan membagikan catatan medis pasien dengan aman dan efisien. Dengan kemampuannya untuk meningkatkan efisiensi, transparansi, dan keamanan, teknologi blockchain diperkirakan akan terus mengalami pertumbuhan signifikan dalam berbagai industri di masa depan.\"\n",
    "kalimat = kalimat.translate(str.maketrans('','',string.punctuation)).lower()\n",
    "\n",
    "tokens = nltk.tokenize.word_tokenize(kalimat)\n",
    "kemunculan = nltk.FreqDist(tokens)\n",
    "\n",
    "print(kemunculan.most_common())"
   ]
  },
  {
   "cell_type": "markdown",
   "id": "0058f880-e97a-4504-9943-0b48ab6e7a9c",
   "metadata": {},
   "source": [
    "## Frequency Distribution Visualization with Matplotlib ##\n",
    "Untuk menggambarkan frekuensi kemunculan setiap tokens dapat menggunakan _library_ __matplotlib__ pada Python.\n",
    "\n",
    "https://matplotlib.org"
   ]
  },
  {
   "cell_type": "code",
   "execution_count": 15,
   "id": "9ee4d8a5-9db3-4b2d-bbce-396db472aae2",
   "metadata": {},
   "outputs": [
    {
     "data": {
      "image/png": "[encoded data removed]",
      "text/plain": [
       "<Figure size 640x480 with 1 Axes>"
      ]
     },
     "metadata": {},
     "output_type": "display_data"
    }
   ],
   "source": [
    "import matplotlib.pyplot as plt\n",
    "\n",
    "kemunculan.plot(30, cumulative=False)\n",
    "\n",
    "plt.show()"
   ]
  },
  {
   "cell_type": "markdown",
   "id": "355a183f-7498-402f-9a3d-af1a3875068b",
   "metadata": {},
   "source": [
    "## Tokenizing: Sentences Tokenizing Using NLTK Module ##\n",
    "Memisahkan kalimat dalam sebuah paragraf."
   ]
  },
  {
   "cell_type": "code",
   "execution_count": 16,
   "id": "88d89233-5f34-4029-9d9e-be432b56df5f",
   "metadata": {},
   "outputs": [
    {
     "name": "stdout",
     "output_type": "stream",
     "text": [
      "['Teknologi blockchain semakin banyak digunakan dalam berbagai industri karena kemampuannya untuk memberikan keamanan, transparansi, dan ketidakbisaan untuk dimanipulasi.', 'Dari keuangan, logistik, perawatan kesehatan, hingga hiburan, banyak perusahaan dan organisasi telah mulai memanfaatkan blockchain untuk mengoptimalkan proses bisnis mereka.', 'Misalnya, dalam industri keuangan, blockchain digunakan untuk memfasilitasi transaksi keuangan tanpa perantara, mengurangi biaya dan waktu transaksi.', 'Di industri logistik, blockchain membantu dalam pelacakan dan validasi pengiriman, mengurangi risiko kehilangan atau pemalsuan barang.', 'Sementara dalam industri perawatan kesehatan, blockchain dapat digunakan untuk mengamankan dan membagikan catatan medis pasien dengan aman dan efisien.', 'Dengan kemampuannya untuk meningkatkan efisiensi, transparansi, dan keamanan, teknologi blockchain diperkirakan akan terus mengalami pertumbuhan signifikan dalam berbagai industri di masa depan.']\n"
     ]
    }
   ],
   "source": [
    "from nltk.tokenize import sent_tokenize\n",
    "\n",
    "kalimat = \"Teknologi blockchain semakin banyak digunakan dalam berbagai industri karena kemampuannya untuk memberikan keamanan, transparansi, dan ketidakbisaan untuk dimanipulasi. Dari keuangan, logistik, perawatan kesehatan, hingga hiburan, banyak perusahaan dan organisasi telah mulai memanfaatkan blockchain untuk mengoptimalkan proses bisnis mereka. Misalnya, dalam industri keuangan, blockchain digunakan untuk memfasilitasi transaksi keuangan tanpa perantara, mengurangi biaya dan waktu transaksi. Di industri logistik, blockchain membantu dalam pelacakan dan validasi pengiriman, mengurangi risiko kehilangan atau pemalsuan barang. Sementara dalam industri perawatan kesehatan, blockchain dapat digunakan untuk mengamankan dan membagikan catatan medis pasien dengan aman dan efisien. Dengan kemampuannya untuk meningkatkan efisiensi, transparansi, dan keamanan, teknologi blockchain diperkirakan akan terus mengalami pertumbuhan signifikan dalam berbagai industri di masa depan.\"\n",
    "\n",
    "tokens = nltk.tokenize.sent_tokenize(kalimat)\n",
    "\n",
    "print(tokens)"
   ]
  },
  {
   "cell_type": "markdown",
   "id": "38ba8594-6c18-4518-a247-f57b92a3ff78",
   "metadata": {},
   "source": [
    "## Filtering using NLTK ##"
   ]
  },
  {
   "cell_type": "code",
   "execution_count": 17,
   "id": "99f41c53-3c7a-4493-9a58-2bf3a964b2a2",
   "metadata": {},
   "outputs": [],
   "source": [
    "##import nltk\n",
    "##nltk.download()"
   ]
  },
  {
   "cell_type": "code",
   "execution_count": 18,
   "id": "1818c043-64a5-4421-b26a-f15ea1477d3e",
   "metadata": {},
   "outputs": [
    {
     "name": "stdout",
     "output_type": "stream",
     "text": [
      "['teknologi', 'blockchain', 'industri', 'kemampuannya', 'keamanan', 'transparansi', 'ketidakbisaan', 'dimanipulasi', 'keuangan', 'logistik', 'perawatan', 'kesehatan', 'hiburan', 'perusahaan', 'organisasi', 'memanfaatkan', 'blockchain', 'mengoptimalkan', 'proses', 'bisnis', 'industri', 'keuangan', 'blockchain', 'memfasilitasi', 'transaksi', 'keuangan', 'perantara', 'mengurangi', 'biaya', 'transaksi', 'industri', 'logistik', 'blockchain', 'membantu', 'pelacakan', 'validasi', 'pengiriman', 'mengurangi', 'risiko', 'kehilangan', 'pemalsuan', 'barang', 'industri', 'perawatan', 'kesehatan', 'blockchain', 'mengamankan', 'membagikan', 'catatan', 'medis', 'pasien', 'aman', 'efisien', 'kemampuannya', 'meningkatkan', 'efisiensi', 'transparansi', 'keamanan', 'teknologi', 'blockchain', 'mengalami', 'pertumbuhan', 'signifikan', 'industri']\n"
     ]
    }
   ],
   "source": [
    "## from nltk.tokenize import sent_tokenize, word_tokenize\n",
    "from nltk.corpus import stopwords\n",
    " \n",
    "kalimat = \"Teknologi blockchain semakin banyak digunakan dalam berbagai industri karena kemampuannya untuk memberikan keamanan, transparansi, dan ketidakbisaan untuk dimanipulasi. Dari keuangan, logistik, perawatan kesehatan, hingga hiburan, banyak perusahaan dan organisasi telah mulai memanfaatkan blockchain untuk mengoptimalkan proses bisnis mereka. Misalnya, dalam industri keuangan, blockchain digunakan untuk memfasilitasi transaksi keuangan tanpa perantara, mengurangi biaya dan waktu transaksi. Di industri logistik, blockchain membantu dalam pelacakan dan validasi pengiriman, mengurangi risiko kehilangan atau pemalsuan barang. Sementara dalam industri perawatan kesehatan, blockchain dapat digunakan untuk mengamankan dan membagikan catatan medis pasien dengan aman dan efisien. Dengan kemampuannya untuk meningkatkan efisiensi, transparansi, dan keamanan, teknologi blockchain diperkirakan akan terus mengalami pertumbuhan signifikan dalam berbagai industri di masa depan.\"\n",
    "kalimat = kalimat.translate(str.maketrans('','',string.punctuation)).lower()\n",
    "\n",
    "tokens = word_tokenize(kalimat)\n",
    "listStopword = set(stopwords.words('Indonesian'))\n",
    "\n",
    "removed = []\n",
    "for t in tokens:\n",
    "    if t not in listStopword:\n",
    "        removed.append(t)\n",
    " \n",
    "print(removed)"
   ]
  },
  {
   "cell_type": "markdown",
   "id": "029abb26-af07-4d87-84f2-2ba1eea3b020",
   "metadata": {},
   "source": [
    "## Filtering using Sastrawi: Stopword List ##\n",
    "Melihat daftar _stopword_ pada Sastrawi."
   ]
  },
  {
   "cell_type": "code",
   "execution_count": 19,
   "id": "ba33ead1-b498-404c-8bc6-adcd419c2360",
   "metadata": {},
   "outputs": [
    {
     "name": "stdout",
     "output_type": "stream",
     "text": [
      "Requirement already satisfied: Sastrawi in c:\\users\\restu\\appdata\\local\\programs\\python\\python312\\lib\\site-packages (1.0.1)\n"
     ]
    }
   ],
   "source": [
    "!pip install Sastrawi"
   ]
  },
  {
   "cell_type": "code",
   "execution_count": 20,
   "id": "de059f94-b947-41bc-a516-19495a8aa4df",
   "metadata": {},
   "outputs": [
    {
     "name": "stdout",
     "output_type": "stream",
     "text": [
      "['yang', 'untuk', 'pada', 'ke', 'para', 'namun', 'menurut', 'antara', 'dia', 'dua', 'ia', 'seperti', 'jika', 'jika', 'sehingga', 'kembali', 'dan', 'tidak', 'ini', 'karena', 'kepada', 'oleh', 'saat', 'harus', 'sementara', 'setelah', 'belum', 'kami', 'sekitar', 'bagi', 'serta', 'di', 'dari', 'telah', 'sebagai', 'masih', 'hal', 'ketika', 'adalah', 'itu', 'dalam', 'bisa', 'bahwa', 'atau', 'hanya', 'kita', 'dengan', 'akan', 'juga', 'ada', 'mereka', 'sudah', 'saya', 'terhadap', 'secara', 'agar', 'lain', 'anda', 'begitu', 'mengapa', 'kenapa', 'yaitu', 'yakni', 'daripada', 'itulah', 'lagi', 'maka', 'tentang', 'demi', 'dimana', 'kemana', 'pula', 'sambil', 'sebelum', 'sesudah', 'supaya', 'guna', 'kah', 'pun', 'sampai', 'sedangkan', 'selagi', 'sementara', 'tetapi', 'apakah', 'kecuali', 'sebab', 'selain', 'seolah', 'seraya', 'seterusnya', 'tanpa', 'agak', 'boleh', 'dapat', 'dsb', 'dst', 'dll', 'dahulu', 'dulunya', 'anu', 'demikian', 'tapi', 'ingin', 'juga', 'nggak', 'mari', 'nanti', 'melainkan', 'oh', 'ok', 'seharusnya', 'sebetulnya', 'setiap', 'setidaknya', 'sesuatu', 'pasti', 'saja', 'toh', 'ya', 'walau', 'tolong', 'tentu', 'amat', 'apalagi', 'bagaimanapun']\n"
     ]
    }
   ],
   "source": [
    "from Sastrawi.StopWordRemover.StopWordRemoverFactory import StopWordRemoverFactory\n",
    "\n",
    "factory = StopWordRemoverFactory()\n",
    "stopwords = factory.get_stop_words()\n",
    "print(stopwords)"
   ]
  },
  {
   "cell_type": "markdown",
   "id": "09b15865-7ade-4398-8a9c-46877a82ab7c",
   "metadata": {},
   "source": [
    "## Filtering using Sastrawi ##"
   ]
  },
  {
   "cell_type": "code",
   "execution_count": 21,
   "id": "eca00773-3fc2-4330-b1fe-151ddc199bb8",
   "metadata": {},
   "outputs": [
    {
     "name": "stdout",
     "output_type": "stream",
     "text": [
      "['teknologi', 'blockchain', 'semakin', 'banyak', 'digunakan', 'berbagai', 'industri', 'kemampuannya', 'memberikan', 'keamanan', 'transparansi', 'ketidakbisaan', 'dimanipulasi', 'keuangan', 'logistik', 'perawatan', 'kesehatan', 'hingga', 'hiburan', 'banyak', 'perusahaan', 'organisasi', 'mulai', 'memanfaatkan', 'blockchain', 'mengoptimalkan', 'proses', 'bisnis', 'misalnya', 'industri', 'keuangan', 'blockchain', 'digunakan', 'memfasilitasi', 'transaksi', 'keuangan', 'perantara', 'mengurangi', 'biaya', 'waktu', 'transaksi', 'industri', 'logistik', 'blockchain', 'membantu', 'pelacakan', 'validasi', 'pengiriman', 'mengurangi', 'risiko', 'kehilangan', 'pemalsuan', 'barang', 'industri', 'perawatan', 'kesehatan', 'blockchain', 'digunakan', 'mengamankan', 'membagikan', 'catatan', 'medis', 'pasien', 'aman', 'efisien', 'kemampuannya', 'meningkatkan', 'efisiensi', 'transparansi', 'keamanan', 'teknologi', 'blockchain', 'diperkirakan', 'terus', 'mengalami', 'pertumbuhan', 'signifikan', 'dalam', 'berbagai', 'industri', 'masa', 'depan']\n"
     ]
    }
   ],
   "source": [
    "from Sastrawi.StopWordRemover.StopWordRemoverFactory import StopWordRemoverFactory\n",
    "from nltk.tokenize import word_tokenize \n",
    "\n",
    "factory = StopWordRemoverFactory()\n",
    "stopword = factory.create_stop_word_remover()\n",
    "\n",
    "kalimat = \"Teknologi blockchain semakin banyak digunakan dalam berbagai industri karena kemampuannya untuk memberikan keamanan, transparansi, dan ketidakbisaan untuk dimanipulasi. Dari keuangan, logistik, perawatan kesehatan, hingga hiburan, banyak perusahaan dan organisasi telah mulai memanfaatkan blockchain untuk mengoptimalkan proses bisnis mereka. Misalnya, dalam industri keuangan, blockchain digunakan untuk memfasilitasi transaksi keuangan tanpa perantara, mengurangi biaya dan waktu transaksi. Di industri logistik, blockchain membantu dalam pelacakan dan validasi pengiriman, mengurangi risiko kehilangan atau pemalsuan barang. Sementara dalam industri perawatan kesehatan, blockchain dapat digunakan untuk mengamankan dan membagikan catatan medis pasien dengan aman dan efisien. Dengan kemampuannya untuk meningkatkan efisiensi, transparansi, dan keamanan, teknologi blockchain diperkirakan akan terus mengalami pertumbuhan signifikan dalam berbagai industri di masa depan.\"\n",
    "kalimat = kalimat.translate(str.maketrans(\"\",\"\",string.punctuation)).lower()\n",
    "\n",
    "stop = stopword.remove(kalimat)\n",
    "tokens = nltk.tokenize.word_tokenize(stop)\n",
    "\n",
    "print(tokens)"
   ]
  },
  {
   "cell_type": "markdown",
   "id": "afe25146-c65f-4f9e-ac80-4806bf9454e1",
   "metadata": {},
   "source": [
    "## Add Custom Stopword ##\n",
    "Menambahkan kata di _stopword_ untuk dihilangkan pada sebuah teks."
   ]
  },
  {
   "cell_type": "code",
   "execution_count": 22,
   "id": "f2256e56-4e65-411a-ac9d-da55d2b884e3",
   "metadata": {},
   "outputs": [
    {
     "name": "stdout",
     "output_type": "stream",
     "text": [
      "['teknologi', 'blockchain', 'semakin', 'banyak', 'digunakan', 'berbagai', 'industri', 'kemampuannya', 'memberikan', 'keamanan', 'transparansi', 'ketidakbisaan', 'dimanipulasi', 'keuangan', 'logistik', 'perawatan', 'kesehatan', 'hingga', 'hiburan', 'banyak', 'perusahaan', 'organisasi', 'mulai', 'memanfaatkan', 'blockchain', 'mengoptimalkan', 'proses', 'bisnis', 'misalnya', 'industri', 'keuangan', 'blockchain', 'digunakan', 'memfasilitasi', 'transaksi', 'keuangan', 'perantara', 'mengurangi', 'biaya', 'waktu', 'transaksi', 'industri', 'logistik', 'blockchain', 'membantu', 'pelacakan', 'validasi', 'pengiriman', 'mengurangi', 'risiko', 'kehilangan', 'pemalsuan', 'barang', 'industri', 'perawatan', 'kesehatan', 'blockchain', 'digunakan', 'mengamankan', 'membagikan', 'catatan', 'medis', 'pasien', 'aman', 'efisien', 'kemampuannya', 'meningkatkan', 'efisiensi', 'transparansi', 'keamanan', 'teknologi', 'blockchain', 'diperkirakan', 'terus', 'mengalami', 'pertumbuhan', 'signifikan', 'dalam', 'berbagai', 'industri', 'masa', 'depan']\n"
     ]
    }
   ],
   "source": [
    "from Sastrawi.StopWordRemover.StopWordRemoverFactory import StopWordRemoverFactory, StopWordRemover, ArrayDictionary\n",
    "from nltk.tokenize import word_tokenize \n",
    "    \n",
    "# ambil stopword bawaan\n",
    "stop_factory = StopWordRemoverFactory().get_stop_words()\n",
    "more_stopword = ['daring', 'online']\n",
    "\n",
    "kalimat = \"Teknologi blockchain semakin banyak digunakan dalam berbagai industri karena kemampuannya untuk memberikan keamanan, transparansi, dan ketidakbisaan untuk dimanipulasi. Dari keuangan, logistik, perawatan kesehatan, hingga hiburan, banyak perusahaan dan organisasi telah mulai memanfaatkan blockchain untuk mengoptimalkan proses bisnis mereka. Misalnya, dalam industri keuangan, blockchain digunakan untuk memfasilitasi transaksi keuangan tanpa perantara, mengurangi biaya dan waktu transaksi. Di industri logistik, blockchain membantu dalam pelacakan dan validasi pengiriman, mengurangi risiko kehilangan atau pemalsuan barang. Sementara dalam industri perawatan kesehatan, blockchain dapat digunakan untuk mengamankan dan membagikan catatan medis pasien dengan aman dan efisien. Dengan kemampuannya untuk meningkatkan efisiensi, transparansi, dan keamanan, teknologi blockchain diperkirakan akan terus mengalami pertumbuhan signifikan dalam berbagai industri di masa depan.\"\n",
    "kalimat = kalimat.translate(str.maketrans('','',string.punctuation)).lower()\n",
    "\n",
    "# menggabungkan stopword\n",
    "data = stop_factory + more_stopword\n",
    "\n",
    "dictionary = ArrayDictionary(data)\n",
    "str = StopWordRemover(dictionary)\n",
    "tokens = nltk.tokenize.word_tokenize(str.remove(kalimat))\n",
    " \n",
    "print(tokens)"
   ]
  },
  {
   "cell_type": "markdown",
   "id": "eee568cd-9d39-4a65-b523-8bf5d0550d97",
   "metadata": {},
   "source": [
    "## Stemming : Porter Stemming Algorithm using NLTK ##\n",
    "\n",
    "https://tartarus.org/martin/PorterStemmer/index-old.html"
   ]
  },
  {
   "cell_type": "code",
   "execution_count": 23,
   "id": "0087d80b-203a-4c72-8bff-ca24bf16368b",
   "metadata": {},
   "outputs": [
    {
     "name": "stdout",
     "output_type": "stream",
     "text": [
      "jump  :  jump\n",
      "jumping  :  jump\n",
      "jumps  :  jump\n",
      "jumped  :  jump\n",
      "jumpers  :  jumper\n",
      "playing  :  play\n",
      "played  :  play\n",
      "player  :  player\n",
      "plays  :  play\n",
      "playful  :  play\n"
     ]
    }
   ],
   "source": [
    "from nltk.stem import PorterStemmer\n",
    "\n",
    "ps = PorterStemmer()\n",
    "\n",
    "kata = [\"jump\", \"jumping\", \"jumps\", \"jumped\", \"jumpers\", \"playing\", \"played\", \"player\", \"plays\", \"playful\"]\n",
    "\n",
    "for k in kata:\n",
    "    print(k, \" : \", ps.stem(k))\n"
   ]
  },
  {
   "cell_type": "markdown",
   "id": "76ef95a1-0fa3-433b-b14f-91e536af46c7",
   "metadata": {},
   "source": [
    "## Stemming Bahasa Indonesia using Sastrawi ##"
   ]
  },
  {
   "cell_type": "code",
   "execution_count": 24,
   "id": "d4b68630-4bd3-4978-82ad-a69857eb979f",
   "metadata": {},
   "outputs": [
    {
     "data": {
      "text/plain": [
       "'teknologi blockchain makin banyak guna dalam bagai industri karena mampu untuk tingkat aman transparansi dan efisiensi dari uang hingga logistik dan awat sehat blockchain telah jadi solusi yang mati untuk optimal proses bisnis dan tingkat percaya stakeholders'"
      ]
     },
     "execution_count": 24,
     "metadata": {},
     "output_type": "execute_result"
    }
   ],
   "source": [
    "from Sastrawi.Stemmer.StemmerFactory import StemmerFactory\n",
    "factory = StemmerFactory()\n",
    "stemmer = factory.create_stemmer()\n",
    " \n",
    "kalimat = \"Teknologi blockchain semakin banyak digunakan dalam berbagai industri karena kemampuannya untuk meningkatkan keamanan, transparansi, dan efisiensi. Dari keuangan hingga logistik dan perawatan kesehatan, blockchain telah menjadi solusi yang diminati untuk mengoptimalkan proses bisnis dan meningkatkan kepercayaan stakeholders.\"\n",
    "\n",
    "hasil = stemmer.stem(kalimat)\n",
    "\n",
    "hasil\n"
   ]
  },
  {
   "cell_type": "code",
   "execution_count": null,
   "id": "da0179d5-cd93-4380-9af8-367fcc220ef5",
   "metadata": {},
   "outputs": [],
   "source": []
  }
 ],
 "metadata": {
  "kernelspec": {
   "display_name": "Python 3 (ipykernel)",
   "language": "python",
   "name": "python3"
  },
  "language_info": {
   "codemirror_mode": {
    "name": "ipython",
    "version": 3
   },
   "file_extension": ".py",
   "mimetype": "text/x-python",
   "name": "python",
   "nbconvert_exporter": "python",
   "pygments_lexer": "ipython3",
   "version": "3.12.2"
  }
 },
 "nbformat": 4,
 "nbformat_minor": 5
}
