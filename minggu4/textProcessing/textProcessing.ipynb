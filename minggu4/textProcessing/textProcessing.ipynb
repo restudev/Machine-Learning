{
 "cells": [
  {
   "cell_type": "markdown",
   "id": "4b1451b9-dc80-48d7-80d9-c56706f9d3a1",
   "metadata": {},
   "source": [
    "# Analitika Media Sosial"
   ]
  },
  {
   "cell_type": "markdown",
   "id": "48fe361f-e768-4edf-8156-42e4b3d403bc",
   "metadata": {},
   "source": [
    "### Mengenal String dalam Python\n"
   ]
  },
  {
   "cell_type": "code",
   "execution_count": 1,
   "id": "fac7b99d-1436-4326-a79f-67ba16ff0421",
   "metadata": {},
   "outputs": [
    {
     "name": "stdout",
     "output_type": "stream",
     "text": [
      "16\n"
     ]
    }
   ],
   "source": [
    "word = 'machine learning'\n",
    "print(len(word))"
   ]
  },
  {
   "cell_type": "code",
   "execution_count": 2,
   "id": "78971b00-47bf-4dcf-8de2-484114034a87",
   "metadata": {},
   "outputs": [
    {
     "name": "stdout",
     "output_type": "stream",
     "text": [
      "6\n"
     ]
    }
   ],
   "source": [
    "multiline = '''1\n",
    "2\n",
    "3\n",
    "'''\n",
    "print(len(multiline))"
   ]
  },
  {
   "cell_type": "code",
   "execution_count": 3,
   "id": "4e10c670-aa35-4fef-9c5d-916a9026ea73",
   "metadata": {},
   "outputs": [
    {
     "name": "stdout",
     "output_type": "stream",
     "text": [
      "18\n"
     ]
    }
   ],
   "source": [
    "str1 = '1'\n",
    "str2 = '8'\n",
    "\n",
    "print(str1 + str2)"
   ]
  },
  {
   "cell_type": "code",
   "execution_count": 4,
   "id": "2d034ba2-fb31-47af-8b4d-43b380bf85a4",
   "metadata": {},
   "outputs": [
    {
     "name": "stdout",
     "output_type": "stream",
     "text": [
      "97\n",
      "32\n",
      "65\n"
     ]
    }
   ],
   "source": [
    "ch1 = 'a'\n",
    "ch2 = ' ' #space\n",
    "ch3 = 'A'\n",
    "\n",
    "print(ord(ch1))\n",
    "print(ord(ch2))\n",
    "print(ord(ch3))"
   ]
  },
  {
   "cell_type": "code",
   "execution_count": 5,
   "id": "01b3034c-8b27-4b66-ac4e-6075d0ef1e5d",
   "metadata": {},
   "outputs": [
    {
     "name": "stdout",
     "output_type": "stream",
     "text": [
      "mchn lrnng"
     ]
    }
   ],
   "source": [
    "cthString=\"machine learning\"\n",
    "vokal = ['a','i','u','e','o']\n",
    "\n",
    "for i in range(len(cthString)):\n",
    "    if cthString[i].lower() in vokal:\n",
    "        continue\n",
    "    print(cthString[i], end=\"\")"
   ]
  },
  {
   "cell_type": "code",
   "execution_count": 6,
   "id": "9d136a0f-66b3-483d-9255-06c867d1d9d5",
   "metadata": {},
   "outputs": [
    {
     "name": "stdout",
     "output_type": "stream",
     "text": [
      "anei\n",
      "achi\n",
      "hine learning\n",
      "mac\n",
      "mcielann\n"
     ]
    }
   ],
   "source": [
    "cthSlice = \"machine learning\"\n",
    "\n",
    "print(cthSlice[1::4])\n",
    "print(cthSlice[1:5])\n",
    "print(cthSlice[3:])\n",
    "print(cthSlice[:3])\n",
    "print(cthSlice[::2])"
   ]
  },
  {
   "cell_type": "code",
   "execution_count": 7,
   "id": "532e6674-95ea-4415-9346-2ec626d053cb",
   "metadata": {},
   "outputs": [
    {
     "name": "stdout",
     "output_type": "stream",
     "text": [
      "b\n",
      "bcdefghijklmnopqrstuvwxyz\n"
     ]
    }
   ],
   "source": [
    "alphabet = 'abcdefghijklmnopqrstuvwxyz'\n",
    "print(alphabet[1])\n",
    "\n",
    "# Untuk menghapus item pertama dari string, Anda dapat menggunakan slicing\n",
    "alphabet = alphabet[1:]\n",
    "print(alphabet)\n"
   ]
  },
  {
   "cell_type": "code",
   "execution_count": 8,
   "id": "9c7bdca2-e88a-4ead-8b1a-bcf40c8b6082",
   "metadata": {},
   "outputs": [
    {
     "name": "stdout",
     "output_type": "stream",
     "text": [
      "['a', 'b', 'c', 'd', 'e', 'f', 'g', 'h', 'i', 'j', 'k', 'l', 'm', 'n', 'o', 'p', 'q', 'r', 's', 't', 'u', 'v', 'w', 'x', 'y', 'z']\n",
      "aAbcdefghijklmnopqrstuvwxyz\n"
     ]
    }
   ],
   "source": [
    "alphabet = list('abcdefghijklmnopqrstuvwxyz')\n",
    "print(alphabet)\n",
    "\n",
    "# Gunakan metode insert untuk menyisipkan karakter \"A\" pada indeks 1\n",
    "alphabet.insert(1, \"A\")\n",
    "\n",
    "# Konversikan kembali daftar menjadi string\n",
    "new_alphabet = ''.join(alphabet)\n",
    "print(new_alphabet)\n"
   ]
  },
  {
   "cell_type": "code",
   "execution_count": 9,
   "id": "012419fb-f3ba-4797-8413-e0ee7fd1005e",
   "metadata": {},
   "outputs": [
    {
     "name": "stdout",
     "output_type": "stream",
     "text": [
      "3\n"
     ]
    }
   ],
   "source": [
    "t = \"restu\"\n",
    "print(t.find('tu'))"
   ]
  },
  {
   "cell_type": "code",
   "execution_count": 10,
   "id": "e60674e8-5826-4c13-8fcd-614728045de3",
   "metadata": {},
   "outputs": [
    {
     "name": "stdout",
     "output_type": "stream",
     "text": [
      "46\n",
      "355\n",
      "539\n",
      "642\n",
      "941\n"
     ]
    }
   ],
   "source": [
    "txt = \"\"\"Teknologi blockchain semakin banyak digunakan dalam berbagai industri karena kemampuannya untuk memberikan keamanan, transparansi, dan ketidakbisaan untuk dimanipulasi. \n",
    "Dari keuangan, logistik, perawatan kesehatan, hingga hiburan, banyak perusahaan dan organisasi telah mulai memanfaatkan blockchain untuk mengoptimalkan proses bisnis mereka. \n",
    "Misalnya, dalam industri keuangan, blockchain digunakan untuk memfasilitasi transaksi keuangan tanpa perantara, mengurangi biaya dan waktu transaksi. \n",
    "\n",
    "Di industri logistik, blockchain membantu dalam pelacakan dan validasi pengiriman, mengurangi risiko kehilangan atau pemalsuan barang. Sementara dalam industri perawatan kesehatan, blockchain dapat digunakan untuk mengamankan dan membagikan catatan medis pasien dengan aman dan efisien. \n",
    "Dengan kemampuannya untuk meningkatkan efisiensi, transparansi, dan keamanan, teknologi blockchain diperkirakan akan terus mengalami pertumbuhan signifikan dalam berbagai industri di masa depan.\"\"\"\n",
    "\n",
    "fnd = txt.find('dalam')\n",
    "while fnd != -1:\n",
    "    print(fnd)\n",
    "    fnd = txt.find('dalam', fnd + 1)"
   ]
  },
  {
   "cell_type": "markdown",
   "id": "ea9d622a-cdcc-4213-882c-db97512040cf",
   "metadata": {},
   "source": [
    "#### 1. Some of the methods offered by strings are:\n",
    "\n",
    "- `capitalize()` – changes all string letters to capitals;\n",
    "- `center()` – centers the string inside the field of a known length;\n",
    "- `count()` – counts the occurrences of a given character;\n",
    "- `join()` – joins all items of a tuple/list into one string;\n",
    "- `lower()` – converts all the string's letters into lower-case letters;\n",
    "- `lstrip()` – removes the white characters from the beginning of the string;\n",
    "- `replace()` – replaces a given substring with another;\n",
    "- `rfind()` – finds a substring starting from the end of the string;\n",
    "- `rstrip()` – removes the trailing white spaces from the end of the string;\n",
    "- `split()` – splits the string into a substring using a given delimiter;\n",
    "- `strip()` – removes the leading and trailing white spaces;\n",
    "- `swapcase()` – swaps the letters' cases (lower to upper and vice versa)\n",
    "- `title()` – makes the first letter in each word upper-case;\n",
    "- `upper()` – converts all the string's letter into upper-case letters.\n",
    "\n",
    "#### 2. String content can be determined using the following methods (all of them return Boolean values):\n",
    "\n",
    "- `endswith()` – does the string end with a given substring?\n",
    "- `isalnum()` – does the string consist only of letters and digits?\n",
    "- `isalpha()` – does the string consist only of letters?\n",
    "- `islower()` – does the string consists only of lower-case letters?\n",
    "- `isspace()` – does the string consists only of white spaces?\n",
    "- `isupper()` – does the string consists only of upper-case letters?\n",
    "- `startswith()` – does the string begin with a given substring?"
   ]
  },
  {
   "cell_type": "markdown",
   "id": "e190163b-b056-411b-9808-c2a7e5c79303",
   "metadata": {},
   "source": [
    "# Table of contents\n",
    "- [Cleaning Words](#cleaning-words)\n",
    "    - [import library](#import-library)\n",
    "    - [remove tab new line and back slice](#remove-tab-new-line-and-back-slice)\n",
    "    - [remove non ASCII emoticon chinese word](#remove-non-ASCII-emoticon-chinese-word)\n",
    "    - [remove mention link hashtag](#remove-mention-link-hashtag)\n",
    "    - [remove RT](#remove-rt)\n",
    "    - [lower](#lower)\n",
    "    - [remove incomplete url](#remove-incomplete-url)\n",
    "    - [remove number](#remove-number)\n",
    "    - [remove whitespace leading and trailing](#remove-whitespace-leading-and-trailing)\n",
    "    - [remove multiple whitespace into single whitespace](#remove-multiple-whitespace-into-single-whitespace)\n",
    "    - [remove single char](#remove-single-char)\n",
    "    - [remove excessive dot](#remove-excessive-dot)\n",
    "    - [remove punctuation](#remove-punctuation)\n",
    "    - [remove excessive whitespace](#remove-excessive-whitespace)"
   ]
  },
  {
   "cell_type": "markdown",
   "id": "856efc5f-2b29-4d6a-a0c0-8ea1c87144b1",
   "metadata": {},
   "source": [
    "# Cleaning Words <a name=\"cleaning-words\"></a>\n",
    "\n",
    "asumsikan kita sudah mendapat data dari twitter, kemudian kita ingin membersihkan datanya. Maka, kita bisa menggunakan `regular expression`\n",
    "\n",
    "sebagai contoh: \n",
    "\n",
    "`RT : @alzami1986 suka menonton Attack on Titans! (進撃の巨人) #aot  setiap kamis pukul 21.00 di http://netflix.com/aot . \\\\n meski tidak suka kekerasan, tapi cukup menikmati ?! #EldiaHarusMenang melawan #Marley  A ... ` "
   ]
  },
  {
   "cell_type": "code",
   "execution_count": 11,
   "id": "d15839c7-86b3-4054-9e7f-e652a4f38db9",
   "metadata": {},
   "outputs": [],
   "source": [
    "text = 'RT : @alzami1986 suka menonton Attack on Titans! (進撃の巨人) #aot  setiap kamis pukul 21.00 di http://netflix.com/aot . \\\\n meski tidak suka kekerasan, tapi cukup menikmati ?! #EldiaHarusMenang melawan #Marley  A ...'"
   ]
  },
  {
   "cell_type": "code",
   "execution_count": 12,
   "id": "6bffdedf-b192-4ba7-891d-297a9484f663",
   "metadata": {},
   "outputs": [
    {
     "name": "stdout",
     "output_type": "stream",
     "text": [
      "RT : @alzami1986 suka menonton Attack on Titans! (進撃の巨人) #aot  setiap kamis pukul 21.00 di http://netflix.com/aot . \\n meski tidak suka kekerasan, tapi cukup menikmati ?! #EldiaHarusMenang melawan #Marley  A ...\n"
     ]
    }
   ],
   "source": [
    "print(text)"
   ]
  },
  {
   "cell_type": "markdown",
   "id": "2bbc8de3-4715-4313-9ee0-5b7a4573c612",
   "metadata": {},
   "source": [
    "## import library <a name=\"import-library\"></a>"
   ]
  },
  {
   "cell_type": "code",
   "execution_count": 13,
   "id": "b4056a2a-f40c-4cdf-bfdd-6466d8890fed",
   "metadata": {},
   "outputs": [],
   "source": [
    "import re\n",
    "import string\n",
    "import time\n",
    "from copy import deepcopy"
   ]
  },
  {
   "cell_type": "markdown",
   "id": "01668c51-339c-482c-9f02-a2d2327f5c03",
   "metadata": {},
   "source": [
    "## remove tab new line and back slice  <a name=\"remove-tab-new-line-and-back-slice\"></a>"
   ]
  },
  {
   "cell_type": "code",
   "execution_count": 14,
   "id": "7c1685d4-9139-4950-9fd5-309aa1cb172c",
   "metadata": {},
   "outputs": [
    {
     "data": {
      "text/plain": [
       "'RT : @alzami1986 suka menonton Attack on Titans! (進撃の巨人) #aot  setiap kamis pukul 21.00 di http://netflix.com/aot .   meski tidak suka kekerasan, tapi cukup menikmati ?! #EldiaHarusMenang melawan #Marley  A ...'"
      ]
     },
     "execution_count": 14,
     "metadata": {},
     "output_type": "execute_result"
    }
   ],
   "source": [
    "hasil = text.replace('\\\\t',\" \").replace('\\\\n',\" \").replace('\\\\u',\" \").replace('\\\\',\"\")\n",
    "hasil"
   ]
  },
  {
   "cell_type": "markdown",
   "id": "0522347a-8232-4e9d-b171-0ee63cbea518",
   "metadata": {},
   "source": [
    "## remove non ASCII emoticon chinese word <a name=\"remove-non-ASCII-emoticon-chinese-word\"></a>"
   ]
  },
  {
   "cell_type": "code",
   "execution_count": 15,
   "id": "4fda1032-307b-45ee-92c6-0c4a9fc5ad45",
   "metadata": {},
   "outputs": [
    {
     "data": {
      "text/plain": [
       "'RT : @alzami1986 suka menonton Attack on Titans! (?????) #aot  setiap kamis pukul 21.00 di http://netflix.com/aot .   meski tidak suka kekerasan, tapi cukup menikmati ?! #EldiaHarusMenang melawan #Marley  A ...'"
      ]
     },
     "execution_count": 15,
     "metadata": {},
     "output_type": "execute_result"
    }
   ],
   "source": [
    "hasil = hasil.encode('ascii', 'replace').decode('ascii')\n",
    "hasil"
   ]
  },
  {
   "cell_type": "markdown",
   "id": "c0ebff5e-dbf1-40ac-8f96-aa5fa03c1d69",
   "metadata": {},
   "source": [
    "## remove mention, link, hashtag <a name=\"remove-mention-link-hashtag\"></a>"
   ]
  },
  {
   "cell_type": "code",
   "execution_count": 16,
   "id": "f7ca10f2-26ae-4902-816b-85b01447e89c",
   "metadata": {},
   "outputs": [
    {
     "data": {
      "text/plain": [
       "'RT : suka menonton Attack on Titans! (?????) setiap kamis pukul 21.00 di . meski tidak suka kekerasan, tapi cukup menikmati ?! melawan A ...'"
      ]
     },
     "execution_count": 16,
     "metadata": {},
     "output_type": "execute_result"
    }
   ],
   "source": [
    "hasil = ' '.join(re.sub(r\"([@#][A-Za-z0-9]+)|(\\w+:\\/\\/\\S+)\", \" \", hasil).split())\n",
    "hasil"
   ]
  },
  {
   "cell_type": "markdown",
   "id": "77f8b95f-71db-41a6-9e2b-bf930db45a53",
   "metadata": {},
   "source": [
    "## remove RT <a name=\"remove-rt\"></a>"
   ]
  },
  {
   "cell_type": "code",
   "execution_count": 17,
   "id": "ed425fb1-a8ae-40fe-9217-a2874ab455cf",
   "metadata": {},
   "outputs": [
    {
     "data": {
      "text/plain": [
       "'suka menonton Attack on Titans! (?????) setiap kamis pukul 21.00 di . meski tidak suka kekerasan, tapi cukup menikmati ?! melawan A ...'"
      ]
     },
     "execution_count": 17,
     "metadata": {},
     "output_type": "execute_result"
    }
   ],
   "source": [
    "hasil = hasil.replace('RT : ',\"\")\n",
    "hasil"
   ]
  },
  {
   "cell_type": "markdown",
   "id": "4951cda5-388c-44b4-8397-3cea54b366fc",
   "metadata": {},
   "source": [
    "## lower <a name=\"lower\"></a>"
   ]
  },
  {
   "cell_type": "code",
   "execution_count": 18,
   "id": "fa935b9a-0df6-4bde-9987-b1553a4c979b",
   "metadata": {},
   "outputs": [
    {
     "data": {
      "text/plain": [
       "'suka menonton attack on titans! (?????) setiap kamis pukul 21.00 di . meski tidak suka kekerasan, tapi cukup menikmati ?! melawan a ...'"
      ]
     },
     "execution_count": 18,
     "metadata": {},
     "output_type": "execute_result"
    }
   ],
   "source": [
    "hasil = hasil.lower()\n",
    "hasil"
   ]
  },
  {
   "cell_type": "markdown",
   "id": "0d34333b-5502-46f8-b535-72e803df09cb",
   "metadata": {},
   "source": [
    "## remove incomplete URL <a name=\"remove-incomplete-url\"></a>"
   ]
  },
  {
   "cell_type": "code",
   "execution_count": 19,
   "id": "478d8a95-c36c-479c-a203-03b4b1b46150",
   "metadata": {},
   "outputs": [
    {
     "data": {
      "text/plain": [
       "'suka menonton attack on titans! (?????) setiap kamis pukul 21.00 di . meski tidak suka kekerasan, tapi cukup menikmati ?! melawan a ...'"
      ]
     },
     "execution_count": 19,
     "metadata": {},
     "output_type": "execute_result"
    }
   ],
   "source": [
    "hasil = hasil.replace('http://',\"\").replace('https://',\"\")\n",
    "hasil"
   ]
  },
  {
   "cell_type": "markdown",
   "id": "dad7fac8-5bfd-48d3-9025-5c75f9dc4292",
   "metadata": {},
   "source": [
    "## remove number <a name=\"remove-number\"></a>"
   ]
  },
  {
   "cell_type": "code",
   "execution_count": 20,
   "id": "1a8016db-82bd-4a32-9527-025f80cb302f",
   "metadata": {},
   "outputs": [],
   "source": [
    "def remove_number(hasil):\n",
    "    return re.sub(r\"\\d+\", \"\", hasil)"
   ]
  },
  {
   "cell_type": "code",
   "execution_count": 21,
   "id": "d02ca354-a795-4d03-8ab7-5c90cb2598e3",
   "metadata": {},
   "outputs": [
    {
     "data": {
      "text/plain": [
       "'suka menonton attack on titans! (?????) setiap kamis pukul . di . meski tidak suka kekerasan, tapi cukup menikmati ?! melawan a ...'"
      ]
     },
     "execution_count": 21,
     "metadata": {},
     "output_type": "execute_result"
    }
   ],
   "source": [
    "hasil = remove_number(hasil)\n",
    "hasil"
   ]
  },
  {
   "cell_type": "markdown",
   "id": "2c6039c9-b598-4f36-800a-e126596d52fd",
   "metadata": {},
   "source": [
    "## remove whitespace leading and trailing <a name=\"remove-whitespace-leading-and-trailing\"></a>\n",
    "\n",
    "digunakan untuk menghapus tanda spasi setelah titik pada akhir kalimat"
   ]
  },
  {
   "cell_type": "code",
   "execution_count": 22,
   "id": "dc9675c5-85fd-4610-8999-dbd61d5b4968",
   "metadata": {},
   "outputs": [],
   "source": [
    "def remove_whitespace(hasil):\n",
    "    return hasil.strip()"
   ]
  },
  {
   "cell_type": "code",
   "execution_count": 23,
   "id": "2047b86a-8cce-464a-8bbe-2def4e16177f",
   "metadata": {},
   "outputs": [
    {
     "data": {
      "text/plain": [
       "'RT : @alzami1986 suka menonton Attack on Titans! (進撃の巨人) #aot  setiap kamis pukul 21.00 di http://netflix.com/aot . \\\\n meski tidak suka kekerasan, tapi cukup menikmati ?! #EldiaHarusMenang melawan #Marley  A ...'"
      ]
     },
     "execution_count": 23,
     "metadata": {},
     "output_type": "execute_result"
    }
   ],
   "source": [
    "hasil = remove_whitespace(hasil)\n",
    "text"
   ]
  },
  {
   "cell_type": "code",
   "execution_count": 24,
   "id": "4d8f007c-20f3-4dd8-859a-3a4e7f29400f",
   "metadata": {},
   "outputs": [
    {
     "data": {
      "text/plain": [
       "'suka menonton attack on titans! (?????) setiap kamis pukul . di . meski tidak suka kekerasan, tapi cukup menikmati ?! melawan a ...'"
      ]
     },
     "execution_count": 24,
     "metadata": {},
     "output_type": "execute_result"
    }
   ],
   "source": [
    "hasil"
   ]
  },
  {
   "cell_type": "markdown",
   "id": "a0bb1ad6-b4a0-4d12-91a2-d7cfd6c0d517",
   "metadata": {},
   "source": [
    "## remove multiple whitespace into single whitespace <a name=\"remove-multiple-whitespace-into-single-whitespace\"></a>"
   ]
  },
  {
   "cell_type": "code",
   "execution_count": 25,
   "id": "1a389118-c03d-446f-9e7c-a61f4c765498",
   "metadata": {},
   "outputs": [],
   "source": [
    "def remove_whitespace_multi(hasil):\n",
    "    return re.sub(r'\\s+', ' ', hasil)"
   ]
  },
  {
   "cell_type": "code",
   "execution_count": 26,
   "id": "c473eee0-64d9-45b9-8af6-0fcc1cbc6b25",
   "metadata": {},
   "outputs": [
    {
     "data": {
      "text/plain": [
       "'suka menonton attack on titans! (?????) setiap kamis pukul . di . meski tidak suka kekerasan, tapi cukup menikmati ?! melawan a ...'"
      ]
     },
     "execution_count": 26,
     "metadata": {},
     "output_type": "execute_result"
    }
   ],
   "source": [
    "hasil = remove_whitespace_multi(hasil)\n",
    "hasil"
   ]
  },
  {
   "cell_type": "markdown",
   "id": "28bd48f3-9750-4476-8515-042806b25db2",
   "metadata": {},
   "source": [
    "## remove single char <a name=\"remove-single-char\"></a>"
   ]
  },
  {
   "cell_type": "code",
   "execution_count": 27,
   "id": "a343ceb2-9670-4db6-bb60-1692e9834b80",
   "metadata": {},
   "outputs": [],
   "source": [
    "def remove_single_char(hasil):\n",
    "    return re.sub(r\"\\b[a-zA-Z]\\b\", \"\", hasil)"
   ]
  },
  {
   "cell_type": "code",
   "execution_count": 28,
   "id": "536d63ee-fa7a-4220-9108-02062d5a503b",
   "metadata": {},
   "outputs": [
    {
     "data": {
      "text/plain": [
       "'suka menonton attack on titans! (?????) setiap kamis pukul . di . meski tidak suka kekerasan, tapi cukup menikmati ?! melawan  ...'"
      ]
     },
     "execution_count": 28,
     "metadata": {},
     "output_type": "execute_result"
    }
   ],
   "source": [
    "hasil = remove_single_char(hasil)\n",
    "hasil"
   ]
  },
  {
   "cell_type": "markdown",
   "id": "0f2fe3ec-b829-4fc4-9380-f84f30eaa885",
   "metadata": {},
   "source": [
    "## remove excessive dot <a name=\"remove-excessive-dot\"></a>"
   ]
  },
  {
   "cell_type": "code",
   "execution_count": 29,
   "id": "4720f7bb-3d39-40dc-b80a-1246c5e775f8",
   "metadata": {},
   "outputs": [],
   "source": [
    "def remove_excessive_dot(hasil):\n",
    "    return hasil.replace('...',\" \")"
   ]
  },
  {
   "cell_type": "code",
   "execution_count": 30,
   "id": "606bc3f6-0c0c-41d0-ae46-c430f8f7800e",
   "metadata": {},
   "outputs": [
    {
     "data": {
      "text/plain": [
       "'suka menonton attack on titans! (?????) setiap kamis pukul . di . meski tidak suka kekerasan, tapi cukup menikmati ?! melawan   '"
      ]
     },
     "execution_count": 30,
     "metadata": {},
     "output_type": "execute_result"
    }
   ],
   "source": [
    "hasil = remove_excessive_dot(hasil)\n",
    "hasil"
   ]
  },
  {
   "cell_type": "markdown",
   "id": "28caff5e-fdc9-4fde-97f5-eef8de46b52f",
   "metadata": {},
   "source": [
    "## remove punctuation <a name=\"remove-punctuation\"></a>"
   ]
  },
  {
   "cell_type": "code",
   "execution_count": 31,
   "id": "e02324ec-1bf3-4708-9802-cb2bebc7f51e",
   "metadata": {},
   "outputs": [],
   "source": [
    "def remove_punctuation(hasil):\n",
    "    return hasil.translate(str.maketrans(\"\",\"\",string.punctuation))"
   ]
  },
  {
   "cell_type": "code",
   "execution_count": 32,
   "id": "0b88ed34-feb8-4677-a23f-b294388119a0",
   "metadata": {},
   "outputs": [
    {
     "data": {
      "text/plain": [
       "'suka menonton attack on titans  setiap kamis pukul  di  meski tidak suka kekerasan tapi cukup menikmati  melawan   '"
      ]
     },
     "execution_count": 32,
     "metadata": {},
     "output_type": "execute_result"
    }
   ],
   "source": [
    "hasil = remove_punctuation(hasil)\n",
    "hasil"
   ]
  },
  {
   "cell_type": "markdown",
   "id": "6e109716-bc3d-43db-a357-2b6d25aa0d1d",
   "metadata": {},
   "source": [
    "## remove excessive whitespace <a name=\"remove-excessive-whitespace\"></a>"
   ]
  },
  {
   "cell_type": "code",
   "execution_count": 33,
   "id": "8a7242c1-6f9c-46cb-8a1c-b2ea0a9657d0",
   "metadata": {},
   "outputs": [],
   "source": [
    "document = \" saya                    tidak suka sambal     bikin sakit    \""
   ]
  },
  {
   "cell_type": "code",
   "execution_count": 34,
   "id": "34ad21ae-b239-4989-88ff-d08fd1a12719",
   "metadata": {},
   "outputs": [
    {
     "data": {
      "text/plain": [
       "'saya tidak suka sambal bikin sakit'"
      ]
     },
     "execution_count": 34,
     "metadata": {},
     "output_type": "execute_result"
    }
   ],
   "source": [
    "nowhite = ' '.join(document.split())\n",
    "nowhite"
   ]
  }
 ],
 "metadata": {
  "kernelspec": {
   "display_name": "Python 3 (ipykernel)",
   "language": "python",
   "name": "python3"
  },
  "language_info": {
   "codemirror_mode": {
    "name": "ipython",
    "version": 3
   },
   "file_extension": ".py",
   "mimetype": "text/x-python",
   "name": "python",
   "nbconvert_exporter": "python",
   "pygments_lexer": "ipython3",
   "version": "3.12.2"
  }
 },
 "nbformat": 4,
 "nbformat_minor": 5
}
