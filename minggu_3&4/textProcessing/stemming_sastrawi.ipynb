{
 "cells": [
  {
   "cell_type": "markdown",
   "id": "81d39333-afec-4988-b46f-5384be79e470",
   "metadata": {},
   "source": [
    "Stemming menggunakan Sastrawi\n",
    "=============================\n",
    "\n",
    "***Restu Lestari Mulianingrum (A11.2022.14668)***"
   ]
  },
  {
   "cell_type": "markdown",
   "id": "301edcfb-9e6d-456d-81db-b195afece973",
   "metadata": {},
   "source": [
    "# load dataset"
   ]
  },
  {
   "cell_type": "code",
   "execution_count": 2,
   "id": "858e201a-b439-4dac-bb7f-1f8185367cc3",
   "metadata": {},
   "outputs": [],
   "source": [
    "import pandas as pd"
   ]
  },
  {
   "cell_type": "code",
   "execution_count": 3,
   "id": "82b3bf52-c0ab-41ee-83da-fb254fde1227",
   "metadata": {},
   "outputs": [],
   "source": [
    "dataset = pd.read_csv('clean_dataset.csv', sep=';')"
   ]
  },
  {
   "cell_type": "code",
   "execution_count": 4,
   "id": "d3dd6fb5-b2fc-4e2d-85db-16ea2af0d68e",
   "metadata": {},
   "outputs": [
    {
     "data": {
      "text/html": [
       "<div>\n",
       "<style scoped>\n",
       "    .dataframe tbody tr th:only-of-type {\n",
       "        vertical-align: middle;\n",
       "    }\n",
       "\n",
       "    .dataframe tbody tr th {\n",
       "        vertical-align: top;\n",
       "    }\n",
       "\n",
       "    .dataframe thead th {\n",
       "        text-align: right;\n",
       "    }\n",
       "</style>\n",
       "<table border=\"1\" class=\"dataframe\">\n",
       "  <thead>\n",
       "    <tr style=\"text-align: right;\">\n",
       "      <th></th>\n",
       "      <th>Unnamed: 0</th>\n",
       "      <th>content</th>\n",
       "      <th>sentimen</th>\n",
       "      <th>step01</th>\n",
       "      <th>tokens</th>\n",
       "      <th>final_tokens</th>\n",
       "      <th>step02</th>\n",
       "    </tr>\n",
       "  </thead>\n",
       "  <tbody>\n",
       "    <tr>\n",
       "      <th>0</th>\n",
       "      <td>1</td>\n",
       "      <td>Dana mmg keren mantap.</td>\n",
       "      <td>POSITIVE</td>\n",
       "      <td>dana mmg keren mantap</td>\n",
       "      <td>['dana', 'mmg', 'keren', 'mantap']</td>\n",
       "      <td>['dana', 'mmg', 'keren', 'mantap']</td>\n",
       "      <td>dana mmg keren mantap</td>\n",
       "    </tr>\n",
       "    <tr>\n",
       "      <th>1</th>\n",
       "      <td>2</td>\n",
       "      <td>Saya ngajuin upgrade dana premium krna ktp say...</td>\n",
       "      <td>NEGATIVE</td>\n",
       "      <td>saya ngajuin upgrade dana premium krna ktp say...</td>\n",
       "      <td>['saya', 'ngajuin', 'upgrade', 'dana', 'premiu...</td>\n",
       "      <td>['saya', 'ngajuin', 'upgrade', 'dana', 'premiu...</td>\n",
       "      <td>saya ngajuin upgrade dana premium krna ktp say...</td>\n",
       "    </tr>\n",
       "    <tr>\n",
       "      <th>2</th>\n",
       "      <td>3</td>\n",
       "      <td>Kocak mana diskon nya ml malah eror segala kag...</td>\n",
       "      <td>NEGATIVE</td>\n",
       "      <td>kocak mana diskon nya ml malah eror segala kag...</td>\n",
       "      <td>['kocak', 'mana', 'diskon', 'nya', 'ml', 'mala...</td>\n",
       "      <td>['kocak', 'mana', 'diskon', 'nya', 'ml', 'mala...</td>\n",
       "      <td>kocak mana diskon nya ml malah eror segala kag...</td>\n",
       "    </tr>\n",
       "    <tr>\n",
       "      <th>3</th>\n",
       "      <td>4</td>\n",
       "      <td>Saldo hilang karena no lama Hilang ganti no sa...</td>\n",
       "      <td>NEGATIVE</td>\n",
       "      <td>saldo hilang karena no lama hilang ganti no sa...</td>\n",
       "      <td>['saldo', 'hilang', 'karena', 'no', 'lama', 'h...</td>\n",
       "      <td>['saldo', 'hilang', 'karena', 'no', 'lama', 'h...</td>\n",
       "      <td>saldo hilang karena no lama hilang ganti no sa...</td>\n",
       "    </tr>\n",
       "    <tr>\n",
       "      <th>4</th>\n",
       "      <td>6</td>\n",
       "      <td>Udah gua hapus dana ya. ilang ya udah 1 juta l...</td>\n",
       "      <td>NEGATIVE</td>\n",
       "      <td>udah gua hapus dana ya ilang ya udah   juta le...</td>\n",
       "      <td>['udah', 'gua', 'hapus', 'dana', 'ya', 'ilang'...</td>\n",
       "      <td>['udah', 'gua', 'hapus', 'dana', 'ya', 'ilang'...</td>\n",
       "      <td>udah gua hapus dana ya ilang ya udah juta lebi...</td>\n",
       "    </tr>\n",
       "  </tbody>\n",
       "</table>\n",
       "</div>"
      ],
      "text/plain": [
       "   Unnamed: 0                                            content  sentimen  \\\n",
       "0           1                             Dana mmg keren mantap.  POSITIVE   \n",
       "1           2  Saya ngajuin upgrade dana premium krna ktp say...  NEGATIVE   \n",
       "2           3  Kocak mana diskon nya ml malah eror segala kag...  NEGATIVE   \n",
       "3           4  Saldo hilang karena no lama Hilang ganti no sa...  NEGATIVE   \n",
       "4           6  Udah gua hapus dana ya. ilang ya udah 1 juta l...  NEGATIVE   \n",
       "\n",
       "                                              step01  \\\n",
       "0                              dana mmg keren mantap   \n",
       "1  saya ngajuin upgrade dana premium krna ktp say...   \n",
       "2  kocak mana diskon nya ml malah eror segala kag...   \n",
       "3  saldo hilang karena no lama hilang ganti no sa...   \n",
       "4  udah gua hapus dana ya ilang ya udah   juta le...   \n",
       "\n",
       "                                              tokens  \\\n",
       "0                 ['dana', 'mmg', 'keren', 'mantap']   \n",
       "1  ['saya', 'ngajuin', 'upgrade', 'dana', 'premiu...   \n",
       "2  ['kocak', 'mana', 'diskon', 'nya', 'ml', 'mala...   \n",
       "3  ['saldo', 'hilang', 'karena', 'no', 'lama', 'h...   \n",
       "4  ['udah', 'gua', 'hapus', 'dana', 'ya', 'ilang'...   \n",
       "\n",
       "                                        final_tokens  \\\n",
       "0                 ['dana', 'mmg', 'keren', 'mantap']   \n",
       "1  ['saya', 'ngajuin', 'upgrade', 'dana', 'premiu...   \n",
       "2  ['kocak', 'mana', 'diskon', 'nya', 'ml', 'mala...   \n",
       "3  ['saldo', 'hilang', 'karena', 'no', 'lama', 'h...   \n",
       "4  ['udah', 'gua', 'hapus', 'dana', 'ya', 'ilang'...   \n",
       "\n",
       "                                              step02  \n",
       "0                              dana mmg keren mantap  \n",
       "1  saya ngajuin upgrade dana premium krna ktp say...  \n",
       "2  kocak mana diskon nya ml malah eror segala kag...  \n",
       "3  saldo hilang karena no lama hilang ganti no sa...  \n",
       "4  udah gua hapus dana ya ilang ya udah juta lebi...  "
      ]
     },
     "execution_count": 4,
     "metadata": {},
     "output_type": "execute_result"
    }
   ],
   "source": [
    "dataset.head()"
   ]
  },
  {
   "cell_type": "markdown",
   "id": "8f164690-c556-4aef-91e1-3841b6bb2558",
   "metadata": {},
   "source": [
    "# load sastrawi sebagai stemmer"
   ]
  },
  {
   "cell_type": "code",
   "execution_count": 5,
   "id": "7b3f8f34-5ee1-4cb2-973c-d6a990549e6d",
   "metadata": {},
   "outputs": [],
   "source": [
    "from Sastrawi.Stemmer.StemmerFactory import StemmerFactory\n",
    "factory = StemmerFactory()\n",
    "stemmer = factory.create_stemmer()"
   ]
  },
  {
   "cell_type": "markdown",
   "id": "ab5170c3-e236-4f29-b3e3-a790137851dd",
   "metadata": {},
   "source": [
    "## hapus stop words"
   ]
  },
  {
   "cell_type": "code",
   "execution_count": 6,
   "id": "3228d752-10f4-4433-9316-255d8b1a999c",
   "metadata": {},
   "outputs": [],
   "source": [
    "from Sastrawi.StopWordRemover.StopWordRemoverFactory import StopWordRemoverFactory, StopWordRemover, ArrayDictionary\n",
    " \n",
    "factory = StopWordRemoverFactory()\n",
    "\n",
    "more_stopword = ['sih', 'nya','rt','loh','lah', 'dd', 'mah', 'nye', 'eh', 'ehh', 'ah', 'yang','yg']\n",
    " \n",
    "# Tambahkan Stopword Baru\n",
    "data = factory.get_stop_words()+more_stopword\n",
    "\n",
    "stopwords_sastrawi = factory.create_stop_word_remover()\n",
    "\n",
    "dictionary = ArrayDictionary(data)\n",
    "str_stopwords = StopWordRemover(dictionary)"
   ]
  },
  {
   "cell_type": "code",
   "execution_count": 7,
   "id": "ad26cb91-856b-4dee-93bc-0fe2e378e47b",
   "metadata": {},
   "outputs": [],
   "source": [
    "dataset['finalText_str'] = dataset['step02'].apply(str)"
   ]
  },
  {
   "cell_type": "code",
   "execution_count": 8,
   "id": "ddf7ed30-a8c3-4973-879e-e0d8bf29a344",
   "metadata": {},
   "outputs": [],
   "source": [
    "i=0\n",
    "final_string = []\n",
    "s = \"\"\n",
    "for sentence in dataset[\"finalText_str\"].values:\n",
    "    filteredSentence = []\n",
    "    EachReviewText = \"\"\n",
    "    st = str_stopwords.remove(sentence)\n",
    "    s = (stemmer.stem(st))\n",
    "    filteredSentence.append(s)\n",
    "    \n",
    "    EachReviewText = ' '.join(filteredSentence)\n",
    "    final_string.append(EachReviewText)"
   ]
  },
  {
   "cell_type": "code",
   "execution_count": null,
   "id": "b769b9f5-6863-4829-9997-3c0a94485472",
   "metadata": {},
   "outputs": [],
   "source": [
    "dataset.loc[:, ('ProcessedText')] = final_string"
   ]
  },
  {
   "cell_type": "code",
   "execution_count": null,
   "id": "fa4289d0-2824-44bc-8e2b-c8c5d103cb26",
   "metadata": {},
   "outputs": [],
   "source": [
    "dataset"
   ]
  },
  {
   "cell_type": "code",
   "execution_count": null,
   "id": "9db506f2-a3f9-4d01-9b11-9c8c68465031",
   "metadata": {},
   "outputs": [],
   "source": [
    "dataset.to_csv('clean_dataset_stem.csv',sep=';')"
   ]
  }
 ],
 "metadata": {
  "kernelspec": {
   "display_name": "Python 3 (ipykernel)",
   "language": "python",
   "name": "python3"
  },
  "language_info": {
   "codemirror_mode": {
    "name": "ipython",
    "version": 3
   },
   "file_extension": ".py",
   "mimetype": "text/x-python",
   "name": "python",
   "nbconvert_exporter": "python",
   "pygments_lexer": "ipython3",
   "version": "3.12.2"
  }
 },
 "nbformat": 4,
 "nbformat_minor": 5
}
